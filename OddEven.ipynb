{
 "cells": [
  {
   "cell_type": "code",
   "execution_count": 1,
   "id": "9127df93",
   "metadata": {},
   "outputs": [
    {
     "name": "stdout",
     "output_type": "stream",
     "text": [
      "Number of Even Numbers: 4\n",
      "Number of Odd Numbers: 5\n"
     ]
    }
   ],
   "source": [
    "num=(1, 2, 3, 4, 5, 6, 7, 8, 9)\n",
    "\n",
    "even_num=0\n",
    "odd_num=0\n",
    "\n",
    "for num in num:\n",
    "    if num%2==0:\n",
    "        even_num+=1\n",
    "    else:\n",
    "        odd_num+=1\n",
    "\n",
    "print(\"Number of Even Numbers:\", even_num)\n",
    "print(\"Number of Odd Numbers:\", odd_num)"
   ]
  },
  {
   "cell_type": "code",
   "execution_count": null,
   "id": "68fe70d6",
   "metadata": {},
   "outputs": [],
   "source": []
  }
 ],
 "metadata": {
  "kernelspec": {
   "display_name": "Python 3 (ipykernel)",
   "language": "python",
   "name": "python3"
  },
  "language_info": {
   "codemirror_mode": {
    "name": "ipython",
    "version": 3
   },
   "file_extension": ".py",
   "mimetype": "text/x-python",
   "name": "python",
   "nbconvert_exporter": "python",
   "pygments_lexer": "ipython3",
   "version": "3.10.9"
  }
 },
 "nbformat": 4,
 "nbformat_minor": 5
}
